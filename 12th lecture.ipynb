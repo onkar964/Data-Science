{
 "cells": [
  {
   "cell_type": "code",
   "execution_count": 1,
   "metadata": {},
   "outputs": [],
   "source": [
    "import pandas as pd\n",
    "import numpy as np\n",
    "import matplotlib.pyplot as plt\n",
    "import seaborn as sns"
   ]
  },
  {
   "cell_type": "code",
   "execution_count": 2,
   "metadata": {},
   "outputs": [],
   "source": [
    "cr = pd.read_csv(\"CreditRisk.csv\")"
   ]
  },
  {
   "cell_type": "code",
   "execution_count": 3,
   "metadata": {},
   "outputs": [
    {
     "data": {
      "text/html": [
       "<div>\n",
       "<style scoped>\n",
       "    .dataframe tbody tr th:only-of-type {\n",
       "        vertical-align: middle;\n",
       "    }\n",
       "\n",
       "    .dataframe tbody tr th {\n",
       "        vertical-align: top;\n",
       "    }\n",
       "\n",
       "    .dataframe thead th {\n",
       "        text-align: right;\n",
       "    }\n",
       "</style>\n",
       "<table border=\"1\" class=\"dataframe\">\n",
       "  <thead>\n",
       "    <tr style=\"text-align: right;\">\n",
       "      <th></th>\n",
       "      <th>Loan_ID</th>\n",
       "      <th>Gender</th>\n",
       "      <th>Married</th>\n",
       "      <th>Dependents</th>\n",
       "      <th>Education</th>\n",
       "      <th>Self_Employed</th>\n",
       "      <th>ApplicantIncome</th>\n",
       "      <th>CoapplicantIncome</th>\n",
       "      <th>LoanAmount</th>\n",
       "      <th>Loan_Amount_Term</th>\n",
       "      <th>Credit_History</th>\n",
       "      <th>Property_Area</th>\n",
       "      <th>Loan_Status</th>\n",
       "    </tr>\n",
       "  </thead>\n",
       "  <tbody>\n",
       "    <tr>\n",
       "      <th>0</th>\n",
       "      <td>LP001002</td>\n",
       "      <td>Male</td>\n",
       "      <td>No</td>\n",
       "      <td>0.0</td>\n",
       "      <td>Graduate</td>\n",
       "      <td>No</td>\n",
       "      <td>5849</td>\n",
       "      <td>0.0</td>\n",
       "      <td>NaN</td>\n",
       "      <td>360.0</td>\n",
       "      <td>1.0</td>\n",
       "      <td>Urban</td>\n",
       "      <td>Y</td>\n",
       "    </tr>\n",
       "    <tr>\n",
       "      <th>1</th>\n",
       "      <td>LP001003</td>\n",
       "      <td>Male</td>\n",
       "      <td>Yes</td>\n",
       "      <td>1.0</td>\n",
       "      <td>Graduate</td>\n",
       "      <td>No</td>\n",
       "      <td>4583</td>\n",
       "      <td>1508.0</td>\n",
       "      <td>128.0</td>\n",
       "      <td>360.0</td>\n",
       "      <td>1.0</td>\n",
       "      <td>Rural</td>\n",
       "      <td>N</td>\n",
       "    </tr>\n",
       "    <tr>\n",
       "      <th>2</th>\n",
       "      <td>LP001005</td>\n",
       "      <td>Male</td>\n",
       "      <td>Yes</td>\n",
       "      <td>0.0</td>\n",
       "      <td>Graduate</td>\n",
       "      <td>Yes</td>\n",
       "      <td>3000</td>\n",
       "      <td>0.0</td>\n",
       "      <td>66.0</td>\n",
       "      <td>360.0</td>\n",
       "      <td>1.0</td>\n",
       "      <td>Urban</td>\n",
       "      <td>Y</td>\n",
       "    </tr>\n",
       "    <tr>\n",
       "      <th>3</th>\n",
       "      <td>LP001006</td>\n",
       "      <td>Male</td>\n",
       "      <td>Yes</td>\n",
       "      <td>0.0</td>\n",
       "      <td>Not Graduate</td>\n",
       "      <td>No</td>\n",
       "      <td>2583</td>\n",
       "      <td>2358.0</td>\n",
       "      <td>120.0</td>\n",
       "      <td>360.0</td>\n",
       "      <td>1.0</td>\n",
       "      <td>Urban</td>\n",
       "      <td>Y</td>\n",
       "    </tr>\n",
       "    <tr>\n",
       "      <th>4</th>\n",
       "      <td>LP001008</td>\n",
       "      <td>Male</td>\n",
       "      <td>No</td>\n",
       "      <td>0.0</td>\n",
       "      <td>Graduate</td>\n",
       "      <td>No</td>\n",
       "      <td>6000</td>\n",
       "      <td>0.0</td>\n",
       "      <td>141.0</td>\n",
       "      <td>360.0</td>\n",
       "      <td>1.0</td>\n",
       "      <td>Urban</td>\n",
       "      <td>Y</td>\n",
       "    </tr>\n",
       "  </tbody>\n",
       "</table>\n",
       "</div>"
      ],
      "text/plain": [
       "    Loan_ID Gender Married  Dependents     Education Self_Employed  \\\n",
       "0  LP001002   Male      No         0.0      Graduate            No   \n",
       "1  LP001003   Male     Yes         1.0      Graduate            No   \n",
       "2  LP001005   Male     Yes         0.0      Graduate           Yes   \n",
       "3  LP001006   Male     Yes         0.0  Not Graduate            No   \n",
       "4  LP001008   Male      No         0.0      Graduate            No   \n",
       "\n",
       "   ApplicantIncome  CoapplicantIncome  LoanAmount  Loan_Amount_Term  \\\n",
       "0             5849                0.0         NaN             360.0   \n",
       "1             4583             1508.0       128.0             360.0   \n",
       "2             3000                0.0        66.0             360.0   \n",
       "3             2583             2358.0       120.0             360.0   \n",
       "4             6000                0.0       141.0             360.0   \n",
       "\n",
       "   Credit_History Property_Area Loan_Status  \n",
       "0             1.0         Urban           Y  \n",
       "1             1.0         Rural           N  \n",
       "2             1.0         Urban           Y  \n",
       "3             1.0         Urban           Y  \n",
       "4             1.0         Urban           Y  "
      ]
     },
     "execution_count": 3,
     "metadata": {},
     "output_type": "execute_result"
    }
   ],
   "source": [
    "cr.head()"
   ]
  },
  {
   "cell_type": "code",
   "execution_count": 4,
   "metadata": {},
   "outputs": [
    {
     "data": {
      "text/plain": [
       "Loan_ID               0\n",
       "Gender               24\n",
       "Married               3\n",
       "Dependents           25\n",
       "Education             0\n",
       "Self_Employed        55\n",
       "ApplicantIncome       0\n",
       "CoapplicantIncome     0\n",
       "LoanAmount           27\n",
       "Loan_Amount_Term     20\n",
       "Credit_History       79\n",
       "Property_Area         0\n",
       "Loan_Status           0\n",
       "dtype: int64"
      ]
     },
     "execution_count": 4,
     "metadata": {},
     "output_type": "execute_result"
    }
   ],
   "source": [
    "cr.isnull().sum()"
   ]
  },
  {
   "cell_type": "code",
   "execution_count": 5,
   "metadata": {},
   "outputs": [],
   "source": [
    "cr.Gender = cr.Gender.fillna('Male')\n",
    "cr.Married = cr.Married.fillna(\"Yes\")\n",
    "cr.Dependents = cr.Dependents.fillna(0)\n",
    "cr.Self_Employed = cr.Self_Employed.fillna('No')\n",
    "cr.LoanAmount = cr.LoanAmount.fillna(120)\n",
    "cr.Loan_Amount_Term = cr.Loan_Amount_Term.fillna(360)\n",
    "cr.Credit_History = cr.Credit_History.fillna(1)"
   ]
  },
  {
   "cell_type": "code",
   "execution_count": 6,
   "metadata": {},
   "outputs": [
    {
     "data": {
      "text/plain": [
       "Loan_ID              0\n",
       "Gender               0\n",
       "Married              0\n",
       "Dependents           0\n",
       "Education            0\n",
       "Self_Employed        0\n",
       "ApplicantIncome      0\n",
       "CoapplicantIncome    0\n",
       "LoanAmount           0\n",
       "Loan_Amount_Term     0\n",
       "Credit_History       0\n",
       "Property_Area        0\n",
       "Loan_Status          0\n",
       "dtype: int64"
      ]
     },
     "execution_count": 6,
     "metadata": {},
     "output_type": "execute_result"
    }
   ],
   "source": [
    "cr.isnull().sum()"
   ]
  },
  {
   "cell_type": "code",
   "execution_count": 7,
   "metadata": {},
   "outputs": [],
   "source": [
    "cr.Gender.replace({\"Male\": 1, \"Female\": 0}, inplace = True)\n",
    "cr.Married.replace({\"No\": 0, \"Yes\": 1}, inplace = True)\n",
    "cr.Education.replace({\"Graduate\" : 1, \"Not Graduate\": 0}, inplace = True)\n",
    "cr.Self_Employed.replace({\"No\": 0, \"Yes\": 1}, inplace = True)\n",
    "cr.Property_Area.replace({\"Semiurban\": 1, \"Urban\": 2, \"Rural\": 3}, inplace = True)\n",
    "cr.Loan_Status.replace({\"Y\": 1, \"N\": 0}, inplace = True)"
   ]
  },
  {
   "cell_type": "code",
   "execution_count": 8,
   "metadata": {},
   "outputs": [],
   "source": [
    "cr = cr.drop('Loan_ID', axis = 1)"
   ]
  },
  {
   "cell_type": "code",
   "execution_count": 9,
   "metadata": {},
   "outputs": [
    {
     "data": {
      "text/html": [
       "<div>\n",
       "<style scoped>\n",
       "    .dataframe tbody tr th:only-of-type {\n",
       "        vertical-align: middle;\n",
       "    }\n",
       "\n",
       "    .dataframe tbody tr th {\n",
       "        vertical-align: top;\n",
       "    }\n",
       "\n",
       "    .dataframe thead th {\n",
       "        text-align: right;\n",
       "    }\n",
       "</style>\n",
       "<table border=\"1\" class=\"dataframe\">\n",
       "  <thead>\n",
       "    <tr style=\"text-align: right;\">\n",
       "      <th></th>\n",
       "      <th>Gender</th>\n",
       "      <th>Married</th>\n",
       "      <th>Dependents</th>\n",
       "      <th>Education</th>\n",
       "      <th>Self_Employed</th>\n",
       "      <th>ApplicantIncome</th>\n",
       "      <th>CoapplicantIncome</th>\n",
       "      <th>LoanAmount</th>\n",
       "      <th>Loan_Amount_Term</th>\n",
       "      <th>Credit_History</th>\n",
       "      <th>Property_Area</th>\n",
       "      <th>Loan_Status</th>\n",
       "    </tr>\n",
       "  </thead>\n",
       "  <tbody>\n",
       "    <tr>\n",
       "      <th>0</th>\n",
       "      <td>1</td>\n",
       "      <td>0</td>\n",
       "      <td>0.0</td>\n",
       "      <td>1</td>\n",
       "      <td>0</td>\n",
       "      <td>5849</td>\n",
       "      <td>0.0</td>\n",
       "      <td>120.0</td>\n",
       "      <td>360.0</td>\n",
       "      <td>1.0</td>\n",
       "      <td>2</td>\n",
       "      <td>1</td>\n",
       "    </tr>\n",
       "    <tr>\n",
       "      <th>1</th>\n",
       "      <td>1</td>\n",
       "      <td>1</td>\n",
       "      <td>1.0</td>\n",
       "      <td>1</td>\n",
       "      <td>0</td>\n",
       "      <td>4583</td>\n",
       "      <td>1508.0</td>\n",
       "      <td>128.0</td>\n",
       "      <td>360.0</td>\n",
       "      <td>1.0</td>\n",
       "      <td>3</td>\n",
       "      <td>0</td>\n",
       "    </tr>\n",
       "    <tr>\n",
       "      <th>2</th>\n",
       "      <td>1</td>\n",
       "      <td>1</td>\n",
       "      <td>0.0</td>\n",
       "      <td>1</td>\n",
       "      <td>1</td>\n",
       "      <td>3000</td>\n",
       "      <td>0.0</td>\n",
       "      <td>66.0</td>\n",
       "      <td>360.0</td>\n",
       "      <td>1.0</td>\n",
       "      <td>2</td>\n",
       "      <td>1</td>\n",
       "    </tr>\n",
       "    <tr>\n",
       "      <th>3</th>\n",
       "      <td>1</td>\n",
       "      <td>1</td>\n",
       "      <td>0.0</td>\n",
       "      <td>0</td>\n",
       "      <td>0</td>\n",
       "      <td>2583</td>\n",
       "      <td>2358.0</td>\n",
       "      <td>120.0</td>\n",
       "      <td>360.0</td>\n",
       "      <td>1.0</td>\n",
       "      <td>2</td>\n",
       "      <td>1</td>\n",
       "    </tr>\n",
       "    <tr>\n",
       "      <th>4</th>\n",
       "      <td>1</td>\n",
       "      <td>0</td>\n",
       "      <td>0.0</td>\n",
       "      <td>1</td>\n",
       "      <td>0</td>\n",
       "      <td>6000</td>\n",
       "      <td>0.0</td>\n",
       "      <td>141.0</td>\n",
       "      <td>360.0</td>\n",
       "      <td>1.0</td>\n",
       "      <td>2</td>\n",
       "      <td>1</td>\n",
       "    </tr>\n",
       "  </tbody>\n",
       "</table>\n",
       "</div>"
      ],
      "text/plain": [
       "   Gender  Married  Dependents  Education  Self_Employed  ApplicantIncome  \\\n",
       "0       1        0         0.0          1              0             5849   \n",
       "1       1        1         1.0          1              0             4583   \n",
       "2       1        1         0.0          1              1             3000   \n",
       "3       1        1         0.0          0              0             2583   \n",
       "4       1        0         0.0          1              0             6000   \n",
       "\n",
       "   CoapplicantIncome  LoanAmount  Loan_Amount_Term  Credit_History  \\\n",
       "0                0.0       120.0             360.0             1.0   \n",
       "1             1508.0       128.0             360.0             1.0   \n",
       "2                0.0        66.0             360.0             1.0   \n",
       "3             2358.0       120.0             360.0             1.0   \n",
       "4                0.0       141.0             360.0             1.0   \n",
       "\n",
       "   Property_Area  Loan_Status  \n",
       "0              2            1  \n",
       "1              3            0  \n",
       "2              2            1  \n",
       "3              2            1  \n",
       "4              2            1  "
      ]
     },
     "execution_count": 9,
     "metadata": {},
     "output_type": "execute_result"
    }
   ],
   "source": [
    "cr.head()"
   ]
  },
  {
   "cell_type": "code",
   "execution_count": 10,
   "metadata": {},
   "outputs": [],
   "source": [
    "from sklearn.model_selection import train_test_split"
   ]
  },
  {
   "cell_type": "code",
   "execution_count": 11,
   "metadata": {},
   "outputs": [],
   "source": [
    "cr_train, cr_test = train_test_split(cr, test_size = 0.2, random_state = 553)"
   ]
  },
  {
   "cell_type": "code",
   "execution_count": 12,
   "metadata": {},
   "outputs": [],
   "source": [
    "cr_train_x = cr_train.iloc[:, 0:-1]\n",
    "cr_train_y = cr_train.iloc[:, -1]\n",
    "\n",
    "cr_test_x = cr_test.iloc[:, 0:-1]\n",
    "cr_test_y = cr_test.iloc[:, -1]"
   ]
  },
  {
   "cell_type": "code",
   "execution_count": 13,
   "metadata": {},
   "outputs": [
    {
     "data": {
      "text/html": [
       "<div>\n",
       "<style scoped>\n",
       "    .dataframe tbody tr th:only-of-type {\n",
       "        vertical-align: middle;\n",
       "    }\n",
       "\n",
       "    .dataframe tbody tr th {\n",
       "        vertical-align: top;\n",
       "    }\n",
       "\n",
       "    .dataframe thead th {\n",
       "        text-align: right;\n",
       "    }\n",
       "</style>\n",
       "<table border=\"1\" class=\"dataframe\">\n",
       "  <thead>\n",
       "    <tr style=\"text-align: right;\">\n",
       "      <th></th>\n",
       "      <th>Gender</th>\n",
       "      <th>Married</th>\n",
       "      <th>Dependents</th>\n",
       "      <th>Education</th>\n",
       "      <th>Self_Employed</th>\n",
       "      <th>ApplicantIncome</th>\n",
       "      <th>CoapplicantIncome</th>\n",
       "      <th>LoanAmount</th>\n",
       "      <th>Loan_Amount_Term</th>\n",
       "      <th>Credit_History</th>\n",
       "      <th>Property_Area</th>\n",
       "    </tr>\n",
       "  </thead>\n",
       "  <tbody>\n",
       "    <tr>\n",
       "      <th>548</th>\n",
       "      <td>0</td>\n",
       "      <td>0</td>\n",
       "      <td>0.0</td>\n",
       "      <td>1</td>\n",
       "      <td>0</td>\n",
       "      <td>5000</td>\n",
       "      <td>0.0</td>\n",
       "      <td>103.0</td>\n",
       "      <td>360.0</td>\n",
       "      <td>0.0</td>\n",
       "      <td>1</td>\n",
       "    </tr>\n",
       "  </tbody>\n",
       "</table>\n",
       "</div>"
      ],
      "text/plain": [
       "     Gender  Married  Dependents  Education  Self_Employed  ApplicantIncome  \\\n",
       "548       0        0         0.0          1              0             5000   \n",
       "\n",
       "     CoapplicantIncome  LoanAmount  Loan_Amount_Term  Credit_History  \\\n",
       "548                0.0       103.0             360.0             0.0   \n",
       "\n",
       "     Property_Area  \n",
       "548              1  "
      ]
     },
     "execution_count": 13,
     "metadata": {},
     "output_type": "execute_result"
    }
   ],
   "source": [
    "cr_train_x.head(1)"
   ]
  },
  {
   "cell_type": "code",
   "execution_count": 14,
   "metadata": {},
   "outputs": [
    {
     "data": {
      "text/plain": [
       "846    1\n",
       "Name: Loan_Status, dtype: int64"
      ]
     },
     "execution_count": 14,
     "metadata": {},
     "output_type": "execute_result"
    }
   ],
   "source": [
    "cr_test_y.head(1)"
   ]
  },
  {
   "cell_type": "code",
   "execution_count": 20,
   "metadata": {},
   "outputs": [
    {
     "name": "stdout",
     "output_type": "stream",
     "text": [
      "<class 'pandas.core.frame.DataFrame'>\n",
      "Int64Index: 784 entries, 548 to 842\n",
      "Data columns (total 11 columns):\n",
      " #   Column             Non-Null Count  Dtype  \n",
      "---  ------             --------------  -----  \n",
      " 0   Gender             784 non-null    int64  \n",
      " 1   Married            784 non-null    int64  \n",
      " 2   Dependents         784 non-null    float64\n",
      " 3   Education          784 non-null    int64  \n",
      " 4   Self_Employed      784 non-null    int64  \n",
      " 5   ApplicantIncome    784 non-null    int64  \n",
      " 6   CoapplicantIncome  784 non-null    float64\n",
      " 7   LoanAmount         784 non-null    float64\n",
      " 8   Loan_Amount_Term   784 non-null    float64\n",
      " 9   Credit_History     784 non-null    float64\n",
      " 10  Property_Area      784 non-null    int64  \n",
      "dtypes: float64(5), int64(6)\n",
      "memory usage: 73.5 KB\n"
     ]
    }
   ],
   "source": [
    "cr_train_x.info()"
   ]
  },
  {
   "cell_type": "code",
   "execution_count": 15,
   "metadata": {},
   "outputs": [],
   "source": [
    "from sklearn.linear_model import LogisticRegression\n",
    "logreg = LogisticRegression()"
   ]
  },
  {
   "cell_type": "code",
   "execution_count": 16,
   "metadata": {},
   "outputs": [
    {
     "name": "stderr",
     "output_type": "stream",
     "text": [
      "C:\\Users\\onkar\\anaconda3\\lib\\site-packages\\sklearn\\linear_model\\_logistic.py:762: ConvergenceWarning: lbfgs failed to converge (status=1):\n",
      "STOP: TOTAL NO. of ITERATIONS REACHED LIMIT.\n",
      "\n",
      "Increase the number of iterations (max_iter) or scale the data as shown in:\n",
      "    https://scikit-learn.org/stable/modules/preprocessing.html\n",
      "Please also refer to the documentation for alternative solver options:\n",
      "    https://scikit-learn.org/stable/modules/linear_model.html#logistic-regression\n",
      "  n_iter_i = _check_optimize_result(\n"
     ]
    },
    {
     "data": {
      "text/plain": [
       "LogisticRegression()"
      ]
     },
     "execution_count": 16,
     "metadata": {},
     "output_type": "execute_result"
    }
   ],
   "source": [
    "logreg.fit(cr_train_x, cr_train_y)"
   ]
  },
  {
   "cell_type": "code",
   "execution_count": 17,
   "metadata": {},
   "outputs": [
    {
     "data": {
      "text/plain": [
       "array([1, 1, 1, 1, 1, 1, 1, 1, 1, 1, 1, 1, 1, 1, 1, 1, 1, 1, 1, 1, 1, 1,\n",
       "       1, 0, 1, 1, 1, 1, 1, 1, 1, 1, 1, 0, 1, 1, 1, 1, 1, 1, 0, 1, 1, 0,\n",
       "       1, 1, 1, 1, 1, 1, 1, 1, 1, 1, 0, 1, 1, 1, 1, 1, 1, 1, 1, 1, 1, 1,\n",
       "       1, 1, 1, 1, 1, 1, 1, 1, 1, 1, 1, 1, 0, 1, 1, 1, 1, 1, 0, 1, 1, 1,\n",
       "       1, 1, 1, 1, 1, 1, 1, 1, 1, 1, 1, 0, 1, 1, 0, 1, 1, 1, 1, 1, 1, 1,\n",
       "       1, 1, 1, 1, 1, 0, 0, 1, 0, 1, 1, 1, 1, 1, 1, 1, 0, 1, 1, 1, 1, 0,\n",
       "       1, 0, 1, 1, 1, 1, 1, 0, 1, 1, 0, 1, 1, 1, 1, 1, 1, 1, 1, 1, 1, 1,\n",
       "       1, 1, 1, 1, 0, 1, 1, 1, 1, 1, 0, 0, 0, 1, 1, 0, 1, 1, 1, 1, 1, 1,\n",
       "       1, 1, 1, 1, 0, 1, 1, 1, 0, 1, 0, 1, 1, 1, 1, 1, 1, 1, 1, 1, 1],\n",
       "      dtype=int64)"
      ]
     },
     "execution_count": 17,
     "metadata": {},
     "output_type": "execute_result"
    }
   ],
   "source": [
    "pred = logreg.predict(cr_test_x)\n",
    "pred"
   ]
  },
  {
   "cell_type": "code",
   "execution_count": 18,
   "metadata": {},
   "outputs": [],
   "source": [
    "from sklearn.metrics import confusion_matrix"
   ]
  },
  {
   "cell_type": "code",
   "execution_count": 22,
   "metadata": {},
   "outputs": [
    {
     "data": {
      "text/plain": [
       "array([[ 23,   2],\n",
       "       [ 20, 152]], dtype=int64)"
      ]
     },
     "execution_count": 22,
     "metadata": {},
     "output_type": "execute_result"
    }
   ],
   "source": [
    "tab = confusion_matrix(pred, cr_test_y)\n",
    "tab"
   ]
  },
  {
   "cell_type": "code",
   "execution_count": 23,
   "metadata": {},
   "outputs": [
    {
     "data": {
      "text/plain": [
       "array([ 23, 152], dtype=int64)"
      ]
     },
     "execution_count": 23,
     "metadata": {},
     "output_type": "execute_result"
    }
   ],
   "source": [
    "tab.diagonal()"
   ]
  },
  {
   "cell_type": "code",
   "execution_count": 24,
   "metadata": {},
   "outputs": [
    {
     "data": {
      "text/plain": [
       "175"
      ]
     },
     "execution_count": 24,
     "metadata": {},
     "output_type": "execute_result"
    }
   ],
   "source": [
    "tab.diagonal().sum()"
   ]
  },
  {
   "cell_type": "code",
   "execution_count": 25,
   "metadata": {},
   "outputs": [
    {
     "data": {
      "text/plain": [
       "88.83248730964468"
      ]
     },
     "execution_count": 25,
     "metadata": {},
     "output_type": "execute_result"
    }
   ],
   "source": [
    "tab.diagonal().sum()*100 /tab.sum()"
   ]
  },
  {
   "cell_type": "code",
   "execution_count": 26,
   "metadata": {},
   "outputs": [],
   "source": [
    "from sklearn.metrics import  accuracy_score"
   ]
  },
  {
   "cell_type": "code",
   "execution_count": 27,
   "metadata": {},
   "outputs": [
    {
     "data": {
      "text/plain": [
       "0.8883248730964467"
      ]
     },
     "execution_count": 27,
     "metadata": {},
     "output_type": "execute_result"
    }
   ],
   "source": [
    "accuracy_score(pred, cr_test_y)"
   ]
  },
  {
   "cell_type": "code",
   "execution_count": 28,
   "metadata": {},
   "outputs": [],
   "source": [
    "from sklearn.metrics import precision_score"
   ]
  },
  {
   "cell_type": "code",
   "execution_count": 29,
   "metadata": {},
   "outputs": [
    {
     "data": {
      "text/plain": [
       "0.8837209302325582"
      ]
     },
     "execution_count": 29,
     "metadata": {},
     "output_type": "execute_result"
    }
   ],
   "source": [
    "precision_score(cr_test_y, pred)  # TRUEgive first trule values then predicted\n",
    "\n",
    "# precision = TP/(TP+FP)"
   ]
  },
  {
   "cell_type": "code",
   "execution_count": 30,
   "metadata": {},
   "outputs": [
    {
     "data": {
      "text/plain": [
       "0.987012987012987"
      ]
     },
     "execution_count": 30,
     "metadata": {},
     "output_type": "execute_result"
    }
   ],
   "source": [
    "precision_score(pred, cr_test_y) #FALSE"
   ]
  },
  {
   "cell_type": "code",
   "execution_count": 31,
   "metadata": {},
   "outputs": [
    {
     "data": {
      "text/plain": [
       "array([[ 1.66712601e-01,  6.10147237e-01, -2.46237744e-03,\n",
       "         6.56988567e-01, -3.55133536e-02,  1.91643125e-05,\n",
       "        -5.48989167e-05, -3.79569157e-03, -4.09434736e-03,\n",
       "         3.55163438e+00, -6.25569286e-01]])"
      ]
     },
     "execution_count": 31,
     "metadata": {},
     "output_type": "execute_result"
    }
   ],
   "source": [
    "logreg.coef_"
   ]
  },
  {
   "cell_type": "code",
   "execution_count": 32,
   "metadata": {},
   "outputs": [
    {
     "data": {
      "text/plain": [
       "array([0.24387067])"
      ]
     },
     "execution_count": 32,
     "metadata": {},
     "output_type": "execute_result"
    }
   ],
   "source": [
    "logreg.intercept_"
   ]
  },
  {
   "cell_type": "code",
   "execution_count": 33,
   "metadata": {},
   "outputs": [
    {
     "data": {
      "text/plain": [
       "array([[0.07985237, 0.92014763],\n",
       "       [0.13338345, 0.86661655],\n",
       "       [0.47240027, 0.52759973],\n",
       "       [0.17307614, 0.82692386],\n",
       "       [0.07550525, 0.92449475],\n",
       "       [0.10461732, 0.89538268],\n",
       "       [0.10060947, 0.89939053],\n",
       "       [0.22022839, 0.77977161],\n",
       "       [0.06871721, 0.93128279],\n",
       "       [0.13969244, 0.86030756],\n",
       "       [0.07119481, 0.92880519],\n",
       "       [0.11568624, 0.88431376],\n",
       "       [0.20629741, 0.79370259],\n",
       "       [0.0512264 , 0.9487736 ],\n",
       "       [0.18528248, 0.81471752],\n",
       "       [0.234363  , 0.765637  ],\n",
       "       [0.20030578, 0.79969422],\n",
       "       [0.04920501, 0.95079499],\n",
       "       [0.2380594 , 0.7619406 ],\n",
       "       [0.07903393, 0.92096607],\n",
       "       [0.20751004, 0.79248996],\n",
       "       [0.10077049, 0.89922951],\n",
       "       [0.07783649, 0.92216351],\n",
       "       [0.95571414, 0.04428586],\n",
       "       [0.27688055, 0.72311945],\n",
       "       [0.11937223, 0.88062777],\n",
       "       [0.20572707, 0.79427293],\n",
       "       [0.21893828, 0.78106172],\n",
       "       [0.07692391, 0.92307609],\n",
       "       [0.32243118, 0.67756882],\n",
       "       [0.2482864 , 0.7517136 ],\n",
       "       [0.26940315, 0.73059685],\n",
       "       [0.21708476, 0.78291524],\n",
       "       [0.83748549, 0.16251451],\n",
       "       [0.06087987, 0.93912013],\n",
       "       [0.18560749, 0.81439251],\n",
       "       [0.18667479, 0.81332521],\n",
       "       [0.12670021, 0.87329979],\n",
       "       [0.28284242, 0.71715758],\n",
       "       [0.1824499 , 0.8175501 ],\n",
       "       [0.64661849, 0.35338151],\n",
       "       [0.18749128, 0.81250872],\n",
       "       [0.12244652, 0.87755348],\n",
       "       [0.83650945, 0.16349055],\n",
       "       [0.09089446, 0.90910554],\n",
       "       [0.0718403 , 0.9281597 ],\n",
       "       [0.29092575, 0.70907425],\n",
       "       [0.13248092, 0.86751908],\n",
       "       [0.17407099, 0.82592901],\n",
       "       [0.34353632, 0.65646368],\n",
       "       [0.30499339, 0.69500661],\n",
       "       [0.16999664, 0.83000336],\n",
       "       [0.32395001, 0.67604999],\n",
       "       [0.153518  , 0.846482  ],\n",
       "       [0.88511216, 0.11488784],\n",
       "       [0.11019057, 0.88980943],\n",
       "       [0.25376194, 0.74623806],\n",
       "       [0.46271929, 0.53728071],\n",
       "       [0.11442416, 0.88557584],\n",
       "       [0.17692259, 0.82307741],\n",
       "       [0.1031052 , 0.8968948 ],\n",
       "       [0.07790903, 0.92209097],\n",
       "       [0.49106257, 0.50893743],\n",
       "       [0.10737436, 0.89262564],\n",
       "       [0.10799469, 0.89200531],\n",
       "       [0.30394828, 0.69605172],\n",
       "       [0.41580688, 0.58419312],\n",
       "       [0.21087465, 0.78912535],\n",
       "       [0.18276967, 0.81723033],\n",
       "       [0.11980424, 0.88019576],\n",
       "       [0.11555584, 0.88444416],\n",
       "       [0.11574999, 0.88425001],\n",
       "       [0.20631857, 0.79368143],\n",
       "       [0.09179741, 0.90820259],\n",
       "       [0.09625875, 0.90374125],\n",
       "       [0.22520257, 0.77479743],\n",
       "       [0.33588522, 0.66411478],\n",
       "       [0.23858746, 0.76141254],\n",
       "       [0.8640754 , 0.1359246 ],\n",
       "       [0.25157344, 0.74842656],\n",
       "       [0.37459259, 0.62540741],\n",
       "       [0.23775202, 0.76224798],\n",
       "       [0.12783998, 0.87216002],\n",
       "       [0.28447946, 0.71552054],\n",
       "       [0.9359747 , 0.0640253 ],\n",
       "       [0.08536885, 0.91463115],\n",
       "       [0.22696021, 0.77303979],\n",
       "       [0.16028745, 0.83971255],\n",
       "       [0.05586178, 0.94413822],\n",
       "       [0.10960769, 0.89039231],\n",
       "       [0.17308873, 0.82691127],\n",
       "       [0.09296836, 0.90703164],\n",
       "       [0.21664529, 0.78335471],\n",
       "       [0.33703253, 0.66296747],\n",
       "       [0.37764564, 0.62235436],\n",
       "       [0.03979931, 0.96020069],\n",
       "       [0.10594309, 0.89405691],\n",
       "       [0.0664571 , 0.9335429 ],\n",
       "       [0.25431166, 0.74568834],\n",
       "       [0.50158174, 0.49841826],\n",
       "       [0.03640493, 0.96359507],\n",
       "       [0.18344293, 0.81655707],\n",
       "       [0.92804776, 0.07195224],\n",
       "       [0.14614025, 0.85385975],\n",
       "       [0.47207535, 0.52792465],\n",
       "       [0.27432442, 0.72567558],\n",
       "       [0.19321612, 0.80678388],\n",
       "       [0.15768507, 0.84231493],\n",
       "       [0.1502905 , 0.8497095 ],\n",
       "       [0.13642425, 0.86357575],\n",
       "       [0.21552141, 0.78447859],\n",
       "       [0.44443308, 0.55556692],\n",
       "       [0.32234724, 0.67765276],\n",
       "       [0.08110811, 0.91889189],\n",
       "       [0.07327973, 0.92672027],\n",
       "       [0.54131734, 0.45868266],\n",
       "       [0.93145342, 0.06854658],\n",
       "       [0.26004514, 0.73995486],\n",
       "       [0.81679369, 0.18320631],\n",
       "       [0.18546276, 0.81453724],\n",
       "       [0.04599291, 0.95400709],\n",
       "       [0.20496141, 0.79503859],\n",
       "       [0.11845893, 0.88154107],\n",
       "       [0.29323732, 0.70676268],\n",
       "       [0.11305643, 0.88694357],\n",
       "       [0.18573763, 0.81426237],\n",
       "       [0.92578703, 0.07421297],\n",
       "       [0.38401409, 0.61598591],\n",
       "       [0.17567657, 0.82432343],\n",
       "       [0.10475048, 0.89524952],\n",
       "       [0.05931492, 0.94068508],\n",
       "       [0.89955635, 0.10044365],\n",
       "       [0.07225606, 0.92774394],\n",
       "       [0.94057996, 0.05942004],\n",
       "       [0.15661824, 0.84338176],\n",
       "       [0.2010574 , 0.7989426 ],\n",
       "       [0.12045278, 0.87954722],\n",
       "       [0.21346873, 0.78653127],\n",
       "       [0.19720575, 0.80279425],\n",
       "       [0.8907349 , 0.1092651 ],\n",
       "       [0.32141094, 0.67858906],\n",
       "       [0.12091777, 0.87908223],\n",
       "       [0.91946555, 0.08053445],\n",
       "       [0.1062186 , 0.8937814 ],\n",
       "       [0.19188342, 0.80811658],\n",
       "       [0.11358311, 0.88641689],\n",
       "       [0.16989105, 0.83010895],\n",
       "       [0.12887946, 0.87112054],\n",
       "       [0.07833313, 0.92166687],\n",
       "       [0.06945098, 0.93054902],\n",
       "       [0.04195576, 0.95804424],\n",
       "       [0.08599409, 0.91400591],\n",
       "       [0.24837895, 0.75162105],\n",
       "       [0.13437199, 0.86562801],\n",
       "       [0.14069714, 0.85930286],\n",
       "       [0.11600962, 0.88399038],\n",
       "       [0.2648106 , 0.7351894 ],\n",
       "       [0.30819542, 0.69180458],\n",
       "       [0.70984438, 0.29015562],\n",
       "       [0.15331025, 0.84668975],\n",
       "       [0.07509353, 0.92490647],\n",
       "       [0.17992355, 0.82007645],\n",
       "       [0.10566529, 0.89433471],\n",
       "       [0.10003159, 0.89996841],\n",
       "       [0.96389282, 0.03610718],\n",
       "       [0.79545361, 0.20454639],\n",
       "       [0.9643294 , 0.0356706 ],\n",
       "       [0.21799758, 0.78200242],\n",
       "       [0.04407429, 0.95592571],\n",
       "       [0.72621103, 0.27378897],\n",
       "       [0.07950285, 0.92049715],\n",
       "       [0.07092007, 0.92907993],\n",
       "       [0.23731727, 0.76268273],\n",
       "       [0.40420121, 0.59579879],\n",
       "       [0.12690994, 0.87309006],\n",
       "       [0.11827092, 0.88172908],\n",
       "       [0.22013443, 0.77986557],\n",
       "       [0.13997957, 0.86002043],\n",
       "       [0.18060968, 0.81939032],\n",
       "       [0.19907071, 0.80092929],\n",
       "       [0.81711809, 0.18288191],\n",
       "       [0.0595847 , 0.9404153 ],\n",
       "       [0.1301022 , 0.8698978 ],\n",
       "       [0.25443833, 0.74556167],\n",
       "       [0.86564286, 0.13435714],\n",
       "       [0.1067705 , 0.8932295 ],\n",
       "       [0.55595889, 0.44404111],\n",
       "       [0.27576308, 0.72423692],\n",
       "       [0.14515726, 0.85484274],\n",
       "       [0.28013984, 0.71986016],\n",
       "       [0.17798279, 0.82201721],\n",
       "       [0.11097329, 0.88902671],\n",
       "       [0.08133997, 0.91866003],\n",
       "       [0.11493078, 0.88506922],\n",
       "       [0.17622225, 0.82377775],\n",
       "       [0.12899754, 0.87100246],\n",
       "       [0.06246442, 0.93753558]])"
      ]
     },
     "execution_count": 33,
     "metadata": {},
     "output_type": "execute_result"
    }
   ],
   "source": [
    "logreg.predict_proba(cr_test_x)"
   ]
  },
  {
   "cell_type": "code",
   "execution_count": 34,
   "metadata": {},
   "outputs": [],
   "source": [
    "from sklearn.metrics import roc_auc_score\n",
    "from sklearn.metrics import roc_curve"
   ]
  },
  {
   "cell_type": "code",
   "execution_count": 36,
   "metadata": {},
   "outputs": [
    {
     "data": {
      "text/plain": [
       "0.7609483539716099"
      ]
     },
     "execution_count": 36,
     "metadata": {},
     "output_type": "execute_result"
    }
   ],
   "source": [
    "log_roc_auc = roc_auc_score(cr_test_y, pred)\n",
    "log_roc_auc"
   ]
  },
  {
   "cell_type": "code",
   "execution_count": 39,
   "metadata": {},
   "outputs": [
    {
     "data": {
      "text/plain": [
       "array([0.92014763, 0.86661655, 0.52759973, 0.82692386, 0.92449475,\n",
       "       0.89538268, 0.89939053, 0.77977161, 0.93128279, 0.86030756,\n",
       "       0.92880519, 0.88431376, 0.79370259, 0.9487736 , 0.81471752,\n",
       "       0.765637  , 0.79969422, 0.95079499, 0.7619406 , 0.92096607,\n",
       "       0.79248996, 0.89922951, 0.92216351, 0.04428586, 0.72311945,\n",
       "       0.88062777, 0.79427293, 0.78106172, 0.92307609, 0.67756882,\n",
       "       0.7517136 , 0.73059685, 0.78291524, 0.16251451, 0.93912013,\n",
       "       0.81439251, 0.81332521, 0.87329979, 0.71715758, 0.8175501 ,\n",
       "       0.35338151, 0.81250872, 0.87755348, 0.16349055, 0.90910554,\n",
       "       0.9281597 , 0.70907425, 0.86751908, 0.82592901, 0.65646368,\n",
       "       0.69500661, 0.83000336, 0.67604999, 0.846482  , 0.11488784,\n",
       "       0.88980943, 0.74623806, 0.53728071, 0.88557584, 0.82307741,\n",
       "       0.8968948 , 0.92209097, 0.50893743, 0.89262564, 0.89200531,\n",
       "       0.69605172, 0.58419312, 0.78912535, 0.81723033, 0.88019576,\n",
       "       0.88444416, 0.88425001, 0.79368143, 0.90820259, 0.90374125,\n",
       "       0.77479743, 0.66411478, 0.76141254, 0.1359246 , 0.74842656,\n",
       "       0.62540741, 0.76224798, 0.87216002, 0.71552054, 0.0640253 ,\n",
       "       0.91463115, 0.77303979, 0.83971255, 0.94413822, 0.89039231,\n",
       "       0.82691127, 0.90703164, 0.78335471, 0.66296747, 0.62235436,\n",
       "       0.96020069, 0.89405691, 0.9335429 , 0.74568834, 0.49841826,\n",
       "       0.96359507, 0.81655707, 0.07195224, 0.85385975, 0.52792465,\n",
       "       0.72567558, 0.80678388, 0.84231493, 0.8497095 , 0.86357575,\n",
       "       0.78447859, 0.55556692, 0.67765276, 0.91889189, 0.92672027,\n",
       "       0.45868266, 0.06854658, 0.73995486, 0.18320631, 0.81453724,\n",
       "       0.95400709, 0.79503859, 0.88154107, 0.70676268, 0.88694357,\n",
       "       0.81426237, 0.07421297, 0.61598591, 0.82432343, 0.89524952,\n",
       "       0.94068508, 0.10044365, 0.92774394, 0.05942004, 0.84338176,\n",
       "       0.7989426 , 0.87954722, 0.78653127, 0.80279425, 0.1092651 ,\n",
       "       0.67858906, 0.87908223, 0.08053445, 0.8937814 , 0.80811658,\n",
       "       0.88641689, 0.83010895, 0.87112054, 0.92166687, 0.93054902,\n",
       "       0.95804424, 0.91400591, 0.75162105, 0.86562801, 0.85930286,\n",
       "       0.88399038, 0.7351894 , 0.69180458, 0.29015562, 0.84668975,\n",
       "       0.92490647, 0.82007645, 0.89433471, 0.89996841, 0.03610718,\n",
       "       0.20454639, 0.0356706 , 0.78200242, 0.95592571, 0.27378897,\n",
       "       0.92049715, 0.92907993, 0.76268273, 0.59579879, 0.87309006,\n",
       "       0.88172908, 0.77986557, 0.86002043, 0.81939032, 0.80092929,\n",
       "       0.18288191, 0.9404153 , 0.8698978 , 0.74556167, 0.13435714,\n",
       "       0.8932295 , 0.44404111, 0.72423692, 0.85484274, 0.71986016,\n",
       "       0.82201721, 0.88902671, 0.91866003, 0.88506922, 0.82377775,\n",
       "       0.87100246, 0.93753558])"
      ]
     },
     "execution_count": 39,
     "metadata": {},
     "output_type": "execute_result"
    }
   ],
   "source": [
    "predicted_value_prob = logreg.predict_proba(cr_test_x)\n",
    "predicted_value_prob[:, 1]"
   ]
  },
  {
   "cell_type": "code",
   "execution_count": 40,
   "metadata": {},
   "outputs": [],
   "source": [
    "fpr , tpr, treshold = roc_curve(cr_test_y, predicted_value_prob[:,1])"
   ]
  },
  {
   "cell_type": "code",
   "execution_count": 45,
   "metadata": {},
   "outputs": [
    {
     "data": {
      "image/png": "[encoded data removed]",
      "text/plain": [
       "<Figure size 432x288 with 1 Axes>"
      ]
     },
     "metadata": {
      "needs_background": "light"
     },
     "output_type": "display_data"
    }
   ],
   "source": [
    "plt.plot(fpr, tpr)\n",
    "plt.xlabel(\"fpr\", size = 20)\n",
    "plt.ylabel(\"tpr\", size = 20)\n",
    "plt.title(\"Auc_roc curve on CreditRisk\", size = 20)\n",
    "plt.grid()"
   ]
  },
  {
   "cell_type": "code",
   "execution_count": null,
   "metadata": {},
   "outputs": [],
   "source": []
  },
  {
   "cell_type": "code",
   "execution_count": null,
   "metadata": {},
   "outputs": [],
   "source": []
  },
  {
   "cell_type": "code",
   "execution_count": null,
   "metadata": {},
   "outputs": [],
   "source": []
  },
  {
   "cell_type": "code",
   "execution_count": null,
   "metadata": {},
   "outputs": [],
   "source": []
  },
  {
   "cell_type": "code",
   "execution_count": null,
   "metadata": {},
   "outputs": [],
   "source": []
  }
 ],
 "metadata": {
  "kernelspec": {
   "display_name": "Python 3",
   "language": "python",
   "name": "python3"
  },
  "language_info": {
   "codemirror_mode": {
    "name": "ipython",
    "version": 3
   },
   "file_extension": ".py",
   "mimetype": "text/x-python",
   "name": "python",
   "nbconvert_exporter": "python",
   "pygments_lexer": "ipython3",
   "version": "3.8.5"
  }
 },
 "nbformat": 4,
 "nbformat_minor": 4
}
